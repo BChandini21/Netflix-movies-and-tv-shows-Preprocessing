{
  "nbformat": 4,
  "nbformat_minor": 0,
  "metadata": {
    "colab": {
      "provenance": []
    },
    "kernelspec": {
      "name": "python3",
      "display_name": "Python 3"
    },
    "language_info": {
      "name": "python"
    }
  },
  "cells": [
    {
      "cell_type": "code",
      "source": [
        "import pandas as pd\n",
        "\n",
        "# 1. Load the dataset\n",
        "df = pd.read_csv(\"/content/netflix_titles.csv\")\n",
        "\n",
        "# 2. Remove duplicates\n",
        "df = df.drop_duplicates()\n",
        "\n",
        "# 3. Standardize column names (lowercase, remove spaces)\n",
        "df.columns = (\n",
        "    df.columns\n",
        "    .str.strip()\n",
        "    .str.lower()\n",
        "    .str.replace(' ', '_')\n",
        ")\n",
        "\n",
        "# 4. Handle missing values\n",
        "df['director'] = df['director'].fillna('Not Available')\n",
        "df['cast'] = df['cast'].fillna('Not Available')\n",
        "df['country'] = df['country'].fillna(df['country'].mode()[0])\n",
        "df['rating'] = df['rating'].fillna('Not Rated')\n",
        "df['date_added'] = pd.to_datetime(df['date_added'], errors='coerce')\n",
        "df = df.dropna(subset=['date_added'])\n",
        "\n",
        "# 5. Create new features: year and month added\n",
        "df['added_year'] = df['date_added'].dt.year\n",
        "df['added_month'] = df['date_added'].dt.month\n",
        "\n",
        "# 6. Convert 'release_year' to int (if not already)\n",
        "df['release_year'] = df['release_year'].astype(int)\n",
        "\n",
        "# 7. Standardize text columns\n",
        "df['type'] = df['type'].str.strip().str.title()\n",
        "df['title'] = df['title'].str.strip()\n",
        "df['rating'] = df['rating'].str.strip()\n",
        "\n",
        "# 8. Reorder columns logically\n",
        "column_order = [\n",
        "    'show_id', 'type', 'title', 'director', 'cast', 'country',\n",
        "    'date_added', 'added_year', 'added_month',\n",
        "    'release_year', 'rating', 'duration', 'listed_in', 'description'\n",
        "]\n",
        "df = df[column_order]\n",
        "\n",
        "# 9. Save cleaned and formatted dataset\n",
        "df.to_csv(\"Netflix_Titles_Cleaned_Formatted.csv\", index=False)\n"
      ],
      "metadata": {
        "id": "Vl97sLWIw0aG"
      },
      "execution_count": 4,
      "outputs": []
    }
  ]
}